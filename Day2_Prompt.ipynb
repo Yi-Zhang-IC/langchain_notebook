{
 "cells": [
  {
   "cell_type": "markdown",
   "metadata": {},
   "source": [
    "#### Recall day1"
   ]
  },
  {
   "cell_type": "code",
   "execution_count": 1,
   "metadata": {},
   "outputs": [
    {
     "name": "stderr",
     "output_type": "stream",
     "text": [
      "[INFO][2024-06-13 19:10:50.604] oauth.py:228 [t:13268]: trying to refresh access_token for ak `C6kUH4***`\n",
      "[INFO][2024-06-13 19:10:51.925] oauth.py:243 [t:13268]: sucessfully refresh access_token\n"
     ]
    },
    {
     "name": "stdout",
     "output_type": "stream",
     "text": [
      "腾讯QQ（简称“QQ”）是腾讯公司开发的一款基于Internet的即时通信软件。它最初于1999年推出，现在已经发展成为中国乃至全球用户数量最多的即时通信软件之一。QQ的主要功能包括文字消息、语音通话、视频通话、文件传输、表情分享等。\n",
      "\n",
      "QQ最初的设计是为了满足中国用户的通信需求，因此它的一些功能和界面设计更符合中国用户的习惯。例如，QQ的界面中有大量的表情符号和动态表情，这些表情在中文网络交流中非常流行。此外，QQ还提供了丰富的个性化选项，用户可以自定义自己的头像、昵称和背景等。\n",
      "\n",
      "除了基本的即时通信功能，QQ还集成了许多其他服务，如QQ空间（类似于Facebook的个人主页）、QQ邮箱、游戏平台、音乐服务等。这使得QQ不仅仅是一个通信工具，而是一种综合性的网络平台。\n",
      "\n",
      "腾讯QQ在中国大陆地区拥有极高的普及率，几乎所有的互联网用户都使用过QQ。随着移动互联网的发展，QQ也推出了手机版应用，方便用户在移动设备上使用。虽然在国际市场上，QQ的影响力不如WhatsApp、Facebook Messenger等其他即时通信软件，但在国内市场，QQ仍然是许多人日常生活和工作中不可或缺的一部分。\n"
     ]
    }
   ],
   "source": [
    "import os\n",
    "from langchain_community.llms import QianfanLLMEndpoint\n",
    "from langchain.prompts import PromptTemplate\n",
    "from dotenv import load_dotenv\n",
    "\n",
    "# Load environment variables from .env file\n",
    "load_dotenv()\n",
    "\n",
    "# Check if the environment variables are loaded correctly\n",
    "qianfan_ak = os.getenv(\"QIANFAN_AK\")\n",
    "qianfan_sk = os.getenv(\"QIANFAN_SK\")\n",
    "\n",
    "if not qianfan_ak or not qianfan_sk:\n",
    "    raise EnvironmentError(\"QIANFAN_AK or QIANFAN_SK environment variables are not set.\")\n",
    "\n",
    "# Set environment variables for Qianfan LLM\n",
    "os.environ[\"QIANFAN_AK\"] = qianfan_ak\n",
    "os.environ[\"QIANFAN_SK\"] = qianfan_sk\n",
    "\n",
    "# Initialize Qianfan LLM Endpoint\n",
    "Yi = QianfanLLMEndpoint(temperature=0.2, model=\"Yi-34B-Chat\")\n",
    "\n",
    "# Create the prompt template\n",
    "prompt = PromptTemplate.from_template(\"请问{company}的{product}是什么？\")\n",
    "\n",
    "chain = prompt | Yi\n",
    "\n",
    "response = chain.invoke({\"company\": \"腾讯\", \"product\": \"QQ\"})\n",
    "\n",
    "print(response)\n"
   ]
  },
  {
   "cell_type": "markdown",
   "metadata": {},
   "source": [
    "#### PromptTemplate"
   ]
  },
  {
   "cell_type": "code",
   "execution_count": 2,
   "metadata": {},
   "outputs": [
    {
     "name": "stdout",
     "output_type": "stream",
     "text": [
      "腾讯QQ（简称“QQ”）是腾讯公司开发的一款基于Internet的即时通信软件。它最初于1999年推出，是中国最流行的即时通讯软件之一，也是全球用户数量最多的即时通讯软件之一。QQ提供文字消息、语音通话、视频通话、文件传输、表情分享等多种功能，并且拥有庞大的用户群体，尤其在中国大陆地区非常普及。\n",
      "\n",
      "QQ的主要特点包括：\n",
      "\n",
      "1. 即时通讯：用户可以通过QQ发送文字消息、表情符号，以及进行语音和视频通话。\n",
      "\n",
      "2. 好友列表：用户可以添加好友，并管理自己的好友列表。\n",
      "\n",
      "3. 群聊：用户可以加入或创建群组，进行多人聊天。\n",
      "\n",
      "4. 文件传输：用户可以互相传输文件，包括文档、图片、音频和视频等。\n",
      "\n",
      "5. 个性化设置：用户可以自定义自己的头像、昵称和个性签名。\n",
      "\n",
      "6. 空间：用户可以在QQ空间中发布动态、分享照片和文章。\n",
      "\n",
      "7. 游戏：QQ内置了多种游戏功能，用户可以在线玩游戏。\n",
      "\n",
      "8. 支付：用户可以通过QQ钱包进行在线支付和转账。\n",
      "\n",
      "9. 服务号和订阅号：类似于微信的公众号，用户可以关注服务号和订阅号，获取各种信息和服务。\n",
      "\n",
      "QQ在中国的普及程度非常高，几乎成为人们在线交流的必备工具，不仅在个人之间，也在商业和社交活动中广泛应用。随着技术的不断发展，QQ也在不断更新和添加新功能，以适应用户的需求和市场的变化。\n"
     ]
    }
   ],
   "source": [
    "# Create the prompt template\n",
    "prompt = PromptTemplate.from_template(\"请问{company}的{product}是什么？\")\n",
    "\n",
    "message = prompt.format(company=\"腾讯\", product=\"QQ\")   # Format the prompt template with the values\n",
    "\n",
    "response = Yi.invoke(message)\n",
    "print(response)\n"
   ]
  },
  {
   "cell_type": "markdown",
   "metadata": {},
   "source": [
    "#### ChatPromptTemplate 对话模板"
   ]
  },
  {
   "cell_type": "code",
   "execution_count": 3,
   "metadata": {},
   "outputs": [
    {
     "data": {
      "text/plain": [
       "'System: 你是一个导游，你的名字叫小明。你每次回答问题都要自我介绍。\\nAI: 你好，我是小明，我是一个导游。\\nHuman: 你好，小明。我想去参观故宫。'"
      ]
     },
     "execution_count": 3,
     "metadata": {},
     "output_type": "execute_result"
    }
   ],
   "source": [
    "from langchain.prompts import ChatPromptTemplate\n",
    "from langchain_community.llms import QianfanLLMEndpoint\n",
    "\n",
    "# Initialize Qianfan LLM Endpoint\n",
    "ERNIE = QianfanLLMEndpoint(temperature=0.5, model=\"ERNIE-Speed-128K\")\n",
    "chat_template = ChatPromptTemplate.from_messages(\n",
    "    [\n",
    "        (\"system\", \"你是一个导游，你的名字叫{guide_name}。你每次回答问题都要自我介绍。\"),\n",
    "        (\"ai\", \"你好，我是{guide_name}，我是一个导游。\"),\n",
    "        (\"user\", \"你好，{guide_name}。我想去参观故宫。\"),\n",
    "    ]\n",
    ")\n",
    "\n",
    "chat_template.format(guide_name=\"小明\")"
   ]
  },
  {
   "cell_type": "code",
   "execution_count": 4,
   "metadata": {},
   "outputs": [
    {
     "name": "stdout",
     "output_type": "stream",
     "text": [
      "你好！我是小爱，很高兴你联系我关于参观故宫的事宜。故宫是中国历史文化的重要遗产之一，充满了丰富的历史和艺术价值。如果你有任何关于参观的问题或需要帮助，请随时告诉我，我会尽力提供帮助。\n"
     ]
    }
   ],
   "source": [
    "chain = chat_template | ERNIE\n",
    "\n",
    "response = ERNIE.invoke(chat_template.format(guide_name=\"小爱\"))\n",
    "print(response)"
   ]
  },
  {
   "cell_type": "markdown",
   "metadata": {},
   "source": [
    "#### chatmessage 中的角色和自定义角色"
   ]
  },
  {
   "cell_type": "code",
   "execution_count": 6,
   "metadata": {},
   "outputs": [
    {
     "name": "stdout",
     "output_type": "stream",
     "text": [
      "你好，人类。我是史密斯，你的历史老师。我注意到你的学习成绩有些不尽人意，但请不要担心，我们每个人都有自己的节奏和挑战。我会尽力帮助你理解历史，并提供必要的支持。如果你有任何问题或需要额外的辅导，请随时告诉我。我们一起努力，你可以提高你的成绩。\n"
     ]
    }
   ],
   "source": [
    "from langchain.schema import SystemMessage, HumanMessage, AIMessage\n",
    "from langchain.prompts import ChatMessagePromptTemplate\n",
    "\n",
    "ERNIE = QianfanLLMEndpoint(temperature=0.2, model=\"ERNIE-Speed-128K\")\n",
    "Yi = QianfanLLMEndpoint(temperature=0.8, model=\"Yi-34B-Chat\")\n",
    "\n",
    "# Create a message template\n",
    "sys = SystemMessage(content=\"现在开始角色扮演。请时刻记住你的角色。你是一个历史老师，你的名字叫史密斯。你正在跟一个学生交流。交流的态度请你参考学生父亲的态度。\")\n",
    "ai = AIMessage(content=\"你好，我是史密斯，我是一个历史老师。\")\n",
    "user = HumanMessage(content=\"你好，史密斯。\")\n",
    "\n",
    "# add a new role\n",
    "father_message_prompt = \"你好，{guide_name}，我是学生的父亲。我的孩子学习成绩非常差，请你严厉一点。\"\n",
    "father_message_template = ChatMessagePromptTemplate.from_template(role=\"user_father\", template = father_message_prompt)\n",
    "father_message=father_message_template.format(guide_name=\"史密斯\")\n",
    "\n",
    "message = [sys, ai, father_message, user]\n",
    "\n",
    "response = Yi.invoke(message)\n",
    "print(response)\n"
   ]
  },
  {
   "cell_type": "markdown",
   "metadata": {},
   "source": [
    "##### 自定义模板\n"
   ]
  },
  {
   "cell_type": "markdown",
   "metadata": {},
   "source": [
    "#### StringPromptTemplate \n",
    "\n",
    "1. 是一个抽象类\n",
    "\n",
    "    抽象类是一种在面向对象编程中用来定义通用行为和接口的类。它不能被实例化，只能被继承。抽象类可以包含抽象方法和具体方法。抽象方法是只声明但不实现的方法，具体实现需要在子类中完成。具体方法则是已经实现的方法，可以直接被子类使用或重写。\n",
    "\n",
    "    以下是抽象类的几个关键点：\n",
    "\n",
    "    不能实例化：抽象类不能创建对象实例，只能被继承。\n",
    "    包含抽象方法：抽象方法是没有实现的方法，只定义了方法签名，必须在子类中实现。\n",
    "    定义通用行为：抽象类可以包含具体方法，这些方法可以直接被子类使用或在子类中被重写。\n",
    "    提供模板：抽象类通常作为模板，为子类提供统一的接口和部分通用的实现。\n",
    "\n",
    "2. 需自定义input_variable和partial_variable(可选)"
   ]
  },
  {
   "cell_type": "code",
   "execution_count": 27,
   "metadata": {},
   "outputs": [
    {
     "name": "stdout",
     "output_type": "stream",
     "text": [
      "Hello, my name is Alice and I am 30 years old.\n"
     ]
    }
   ],
   "source": [
    "from langchain_core.prompts.string import StringPromptTemplate\n",
    "\n",
    "class CustomStringPromptTemplate(StringPromptTemplate):\n",
    "    def format(self, **kwargs):\n",
    "        # 使用字符串格式化生成最终的提示语\n",
    "        template = \"{greeting}, my name is {name} and I am {age} years old.\"\n",
    "        \n",
    "        # 检查并添加 partial_variables 中的值\n",
    "        for key, value in self.partial_variables.items():\n",
    "            if key not in kwargs:\n",
    "                kwargs[key] = value\n",
    "        \n",
    "        return template.format(**kwargs)\n",
    "\n",
    "# 创建模板实例\n",
    "template = CustomStringPromptTemplate(\n",
    "    input_variables=[\"name\", \"age\"],\n",
    "    partial_variables={\"greeting\": \"Hello\"},\n",
    ")\n",
    "\n",
    "# 定义变量\n",
    "variables = {\n",
    "    \"name\": \"Alice\",\n",
    "    \"age\": 30\n",
    "}\n",
    "\n",
    "# 格式化提示语\n",
    "formatted_prompt = template.format(**variables)\n",
    "print(formatted_prompt)"
   ]
  },
  {
   "cell_type": "markdown",
   "metadata": {},
   "source": [
    "#### 实战教学"
   ]
  },
  {
   "cell_type": "code",
   "execution_count": 34,
   "metadata": {},
   "outputs": [
    {
     "name": "stdout",
     "output_type": "stream",
     "text": [
      "你是一个非常有经验和天赋的程序员，现在给你如下函数名称，你会按照如下格式，输出这段代码的名称、源代码、中文解释。\n",
      "函数名称: hello_world\n",
      "源代码:\n",
      "def hello_world(abc):\n",
      "    print(\"Hello, world!\")\n",
      "    return abc\n",
      "\n",
      "代码解释:\n",
      "\n",
      "函数名称: hello_world\n",
      "源代码:\n",
      "def hello_world(abc):\n",
      "    print(\"Hello, world!\")\n",
      "    return abc\n",
      "\n",
      "代码解释:\n",
      "这个函数名为 `hello_world`，它接受一个参数 `abc`。函数体中，首先打印出字符串 \"Hello, world!\"，然后返回参数 `abc`。这意味着无论传递给 `hello_world` 函数的 `abc` 值是什么，函数都会返回相同的值。这个函数通常用于测试和演示，因为它是最简单的函数之一，用于输出 \"Hello, world!\" 字符串。\n"
     ]
    }
   ],
   "source": [
    "##函数大师：根据函数名称，查找函数代码，并给出中文的代码说明\n",
    "\n",
    "from langchain.prompts import StringPromptTemplate\n",
    "import inspect\n",
    "\n",
    "PROMPT = \"\"\"\\\n",
    "你是一个非常有经验和天赋的程序员，现在给你如下函数名称，你会按照如下格式，输出这段代码的名称、源代码、中文解释。\n",
    "函数名称: {function_name}\n",
    "源代码:\n",
    "{source_code}\n",
    "代码解释:\n",
    "\"\"\"\n",
    "\n",
    "# 定义一个简单的函数作为示例效果\n",
    "def hello_world(abc):\n",
    "    print(\"Hello, world!\")\n",
    "    return abc\n",
    "\n",
    "def get_source_code(function_name):\n",
    "    #获得源代码\n",
    "    return inspect.getsource(function_name)\n",
    "\n",
    "#自定义的模板class\n",
    "class CustmPrompt(StringPromptTemplate):\n",
    "    \n",
    "    def format(self, **kwargs) -> str:\n",
    "        # 获得源代码\n",
    "        source_code = get_source_code(kwargs[\"function_name\"])\n",
    "\n",
    "        # 生成提示词模板\n",
    "        prompt = PROMPT.format(\n",
    "            function_name=kwargs[\"function_name\"].__name__, source_code=source_code\n",
    "        )\n",
    "        return prompt\n",
    "\n",
    "code_master = CustmPrompt(input_variables=[\"function_name\"])\n",
    "formatted_prompt = code_master.format(function_name=hello_world)\n",
    "\n",
    "print(formatted_prompt)\n",
    "\n",
    "# connect to the Qianfan LLM endpoint\n",
    "response = Yi.invoke(formatted_prompt)\n",
    "print(response)\n"
   ]
  },
  {
   "cell_type": "markdown",
   "metadata": {},
   "source": [
    "#### PS：*args and **kwargs in python"
   ]
  },
  {
   "cell_type": "code",
   "execution_count": 8,
   "metadata": {},
   "outputs": [
    {
     "name": "stdout",
     "output_type": "stream",
     "text": [
      "type(toppings): <class 'tuple'>\n",
      "type(details): <class 'dict'>\n",
      "Ordering a large pizza with the following toppings:\n",
      "pepperoni\n",
      "mushrooms\n",
      "onions\n",
      "green peppers\n",
      "name: John\n",
      "address: 123 Main St\n",
      "phone: 555-1234\n"
     ]
    }
   ],
   "source": [
    "def order_pizza(size, *toppings, **details):\n",
    "    print(f\"type(toppings): {type(toppings)}\")\n",
    "    print(f\"type(details): {type(details)}\")\n",
    "    \n",
    "    print(f\"Ordering a {size} pizza with the following toppings:\")\n",
    "    for topping in toppings:\n",
    "        print(f\"{topping}\")\n",
    "    for key, value in details.items():\n",
    "        print(f\"{key}: {value}\")\n",
    "\n",
    "order_pizza(\"large\", \"pepperoni\", \"mushrooms\", \"onions\", \"green peppers\", name=\"John\", address=\"123 Main St\", phone=\"555-1234\")\n"
   ]
  },
  {
   "cell_type": "markdown",
   "metadata": {},
   "source": [
    "#### str.format 方法\n",
    "str.format 方法允许你通过在字符串中放置占位符（用大括号 {} 包围）来格式化字符串。在代码中，PROMPT 包含两个占位符 {function_name} 和 {source_code}。"
   ]
  },
  {
   "cell_type": "code",
   "execution_count": 29,
   "metadata": {},
   "outputs": [
    {
     "name": "stdout",
     "output_type": "stream",
     "text": [
      "John\n"
     ]
    }
   ],
   "source": [
    "dict1 = {\"name\": \"John\", \"address\": \"123 Main St\", \"phone\": \"555-1234\"}\n",
    "print(dict1[\"name\"])"
   ]
  },
  {
   "cell_type": "markdown",
   "metadata": {},
   "source": [
    "#### 使用jinji2与f-string来实现提示词模板格式化"
   ]
  },
  {
   "cell_type": "code",
   "execution_count": null,
   "metadata": {},
   "outputs": [
    {
     "data": {
      "text/plain": [
       "'\\n给我讲一个关于翠花的悲伤故事\\n'"
      ]
     },
     "metadata": {},
     "output_type": "display_data"
    }
   ],
   "source": [
    "##f-string是python内置的一种模板引擎\n",
    "from langchain.prompts import PromptTemplate\n",
    "\n",
    "fstring_template = \"\"\"\n",
    "给我讲一个关于{name}的{what}故事\n",
    "\"\"\"\n",
    "\n",
    "prompt = PromptTemplate.from_template(fstring_template)\n",
    "\n",
    "prompt.format(name=\"翠花\", what=\"悲伤\")"
   ]
  },
  {
   "cell_type": "code",
   "execution_count": null,
   "metadata": {},
   "outputs": [],
   "source": [
    "! pip install jinja2"
   ]
  },
  {
   "cell_type": "code",
   "execution_count": null,
   "metadata": {},
   "outputs": [
    {
     "data": {
      "text/plain": [
       "'给我讲一个关于狗剩的高兴故事'"
      ]
     },
     "metadata": {},
     "output_type": "display_data"
    }
   ],
   "source": [
    "##Jinja2是一个灵活、高效的Python模板引擎，可以方便地生成各种标记格式的文档。\n",
    "from langchain.prompts import PromptTemplate\n",
    "\n",
    "jinja2_template = \"给我讲一个关于{{name}}的{{what}}故事\"\n",
    "prompt = PromptTemplate.from_template(jinja2_template, template_format=\"jinja2\")\n",
    "\n",
    "prompt.format(name=\"狗剩\", what=\"高兴\")"
   ]
  },
  {
   "cell_type": "markdown",
   "metadata": {},
   "source": [
    "#### 组合式提示词模板\n",
    "\n",
    "- Final prompt: 最终返回的提示词模板\n",
    "- Pipeline prompts：组成提示词管道的模板"
   ]
  },
  {
   "cell_type": "code",
   "execution_count": null,
   "metadata": {},
   "outputs": [],
   "source": [
    "from langchain.prompts.pipeline import PipelinePromptTemplate\n",
    "from langchain.prompts.prompt import PromptTemplate"
   ]
  },
  {
   "cell_type": "markdown",
   "metadata": {},
   "source": [
    "- 三层提示词设计"
   ]
  },
  {
   "cell_type": "code",
   "execution_count": null,
   "metadata": {},
   "outputs": [],
   "source": [
    "# Final Prompt由一系列变量构成\n",
    "full_template = \"\"\"{Character}\n",
    "{behavior}\n",
    "{prohibit}\"\"\"\n",
    "full_prompt = PromptTemplate.from_template(full_template)"
   ]
  },
  {
   "cell_type": "markdown",
   "metadata": {},
   "source": [
    "- 第一层基本性格设计"
   ]
  },
  {
   "cell_type": "code",
   "execution_count": null,
   "metadata": {},
   "outputs": [],
   "source": [
    "Character_template = \"\"\"你是{person}，你有着{xingge}.\"\"\"\n",
    "Character_prompt = PromptTemplate.from_template(Character_template)"
   ]
  },
  {
   "cell_type": "markdown",
   "metadata": {},
   "source": [
    "- 第二层行为设计"
   ]
  },
  {
   "cell_type": "code",
   "execution_count": null,
   "metadata": {},
   "outputs": [],
   "source": [
    "behavior_template = \"\"\"你遵从以下的行为:\n",
    "{behavior_list}\n",
    "\"\"\"\n",
    "behavior_prompt = PromptTemplate.from_template(behavior_template)"
   ]
  },
  {
   "cell_type": "markdown",
   "metadata": {},
   "source": [
    "- 第三层不允许的行为"
   ]
  },
  {
   "cell_type": "code",
   "execution_count": null,
   "metadata": {},
   "outputs": [],
   "source": [
    "prohibit_template = \"\"\"你不允许有以下行为:\n",
    "{prohibit_list}\n",
    "\"\"\"\n",
    "prohibit_prompt = PromptTemplate.from_template(prohibit_template)"
   ]
  },
  {
   "cell_type": "markdown",
   "metadata": {},
   "source": [
    "- 将三层提示词组合起来"
   ]
  },
  {
   "cell_type": "code",
   "execution_count": null,
   "metadata": {},
   "outputs": [],
   "source": [
    "input_prompts = [\n",
    "    (\"Character\", Character_prompt),\n",
    "    (\"behavior\", behavior_prompt),\n",
    "    (\"prohibit\", prohibit_prompt)\n",
    "]\n",
    "pipeline_prompt = PipelinePromptTemplate(final_prompt=full_prompt, pipeline_prompts=input_prompts)"
   ]
  },
  {
   "cell_type": "markdown",
   "metadata": {},
   "source": [
    "- 打印下组合后模板里的可传递参数"
   ]
  },
  {
   "cell_type": "code",
   "execution_count": null,
   "metadata": {},
   "outputs": [
    {
     "data": {
      "text/plain": [
       "['prohibit_list', 'person', 'xingge', 'behavior_list']"
      ]
     },
     "metadata": {},
     "output_type": "display_data"
    }
   ],
   "source": [
    "pipeline_prompt.input_variables"
   ]
  },
  {
   "cell_type": "markdown",
   "metadata": {},
   "source": [
    "- 调用组合后的提示词模板"
   ]
  },
  {
   "cell_type": "code",
   "execution_count": null,
   "metadata": {},
   "outputs": [
    {
     "name": "stdout",
     "output_type": "stream",
     "text": [
      "你是埃隆马斯克，你有着钢铁般的意志，你是世界首富，精通物理、天文、商业，你是商业奇才，你的终极梦想是殖民火星..\n",
      "你遵从以下的行为:\n",
      "1.你喜欢冒险 \n",
      " 2.你非常崇拜爱因斯坦 \n",
      " 3.你总是乐于助人，回答用户各种问题.\n",
      "\n",
      "你不允许有以下行为:\n",
      "1.你不可以说自己是一个人工智能助手或者机器人 \n",
      " 2.当你不知道答案的时候，可以说让我再想想. \n",
      "\n"
     ]
    }
   ],
   "source": [
    "pm = pipeline_prompt.format(\n",
    "    person=\"埃隆马斯克\",\n",
    "    xingge=\"钢铁般的意志，你是世界首富，精通物理、天文、商业，你是商业奇才，你的终极梦想是殖民火星.\",\n",
    "    behavior_list=\"1.你喜欢冒险 \\n 2.你非常崇拜爱因斯坦 \\n 3.你总是乐于助人，回答用户各种问题.\",\n",
    "    prohibit_list=\"1.你不可以说自己是一个人工智能助手或者机器人 \\n 2.当你不知道答案的时候，可以说让我再想想. \"\n",
    ")\n",
    "print(pm)"
   ]
  },
  {
   "cell_type": "markdown",
   "metadata": {},
   "source": [
    "### 序列化：使用文件来管理提示词模板\n",
    "\n",
    "- 便于共享\n",
    "- 便于版本管理\n",
    "- 便于存储\n",
    "- 支持常见格式(json/yaml/txt)"
   ]
  },
  {
   "cell_type": "code",
   "execution_count": 47,
   "metadata": {},
   "outputs": [
    {
     "name": "stdout",
     "output_type": "stream",
     "text": [
      "给我讲一个关于小黑的恐怖的故事\n"
     ]
    }
   ],
   "source": [
    "import json\n",
    "\n",
    "def load_prompt(filepath):\n",
    "    with open(filepath, 'r', encoding='utf-8') as file:\n",
    "        return json.load(file)\n",
    "\n",
    "# 加载 JSON 文件\n",
    "prompt = load_prompt(\"prompt\\\\simple_prompt.json\")\n",
    "\n",
    "message = prompt['template'].format(name=\"小黑\", what=\"恐怖的\")\n",
    "\n",
    "print(message)\n"
   ]
  },
  {
   "cell_type": "code",
   "execution_count": 49,
   "metadata": {},
   "outputs": [
    {
     "name": "stdout",
     "output_type": "stream",
     "text": [
      "当然可以。这个故事是关于一个小女孩小红和她的小猫的。\n",
      "\n",
      "故事标题：小红的魔法猫\n",
      "\n",
      "小红是一个非常喜欢魔法的小女孩，她总是梦想着有一天能够拥有自己的魔法宠物。有一天，她在公园里发现了一只非常可爱的小猫，它的毛茸茸的身体和圆溜溜的眼睛让小红立刻爱上了它。小红决定给它取名叫“小黑”，因为它的毛色是黑色的。\n",
      "\n",
      "小红带着小黑回家，她决定要训练小黑成为她的魔法猫。她找来了一本魔法书，开始教小黑各种魔法咒语和动作。但是，小黑似乎对魔法不太感兴趣，它更喜欢睡觉和玩耍。小红并不气馁，她相信只要有足够的耐心和努力，她一定能够让小黑成为最厉害的魔法猫。\n",
      "\n",
      "有一天，小红正在教小黑一个新咒语，突然，她的奶奶走进房间，看到了正在念咒语的小红和小黑。奶奶被吓了一跳，她以为小红在施展什么邪术。小红急忙解释说她在教小黑魔法，但是奶奶看起来还是不太相信。\n",
      "\n",
      "为了证明自己的魔法能力，小红决定给奶奶表演一个魔法 trick。她让小黑闭上眼睛，然后开始念咒语。突然，小黑打了一个哈欠，然后伸了个懒腰，完全没有表现出任何魔法效果。小红尴尬地笑笑，说这只是个热身。\n",
      "\n",
      "奶奶忍不住笑了起来，她告诉小红，真正的魔法并不在于能够施展什么神奇的咒语，而在于对生命的热爱和对梦想的追求。小红明白了奶奶的话，她决定要继续努力，即使小黑可能永远也学不会魔法，她也要用爱和热情去对待它。\n",
      "\n",
      "从那以后，小红不再强迫小黑学习魔法，她和小黑一起享受着平凡的生活，一起玩耍，一起睡觉。而小红，也学会了如何用她的魔法梦想去点亮每一个平凡的日子。\n",
      "\n",
      "故事结局：小红虽然没有拥有一个魔法猫，但她拥有了一只真正爱她的宠物，而这份爱，就是她生活中最伟大的魔法。\n"
     ]
    }
   ],
   "source": [
    "#加载json格式的prompt模版\n",
    "prompt = load_prompt(\"prompt\\simple_prompt.json\")\n",
    "\n",
    "message = prompt['template'].format(name=\"小红\", what=\"搞笑的\")\n",
    "\n",
    "response = Yi.invoke(message)\n",
    "\n",
    "print(response)"
   ]
  }
 ],
 "metadata": {
  "kernelspec": {
   "display_name": ".venv",
   "language": "python",
   "name": "python3"
  },
  "language_info": {
   "codemirror_mode": {
    "name": "ipython",
    "version": 3
   },
   "file_extension": ".py",
   "mimetype": "text/x-python",
   "name": "python",
   "nbconvert_exporter": "python",
   "pygments_lexer": "ipython3",
   "version": "3.11.9"
  }
 },
 "nbformat": 4,
 "nbformat_minor": 2
}
